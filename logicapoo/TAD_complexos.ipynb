{
  "nbformat": 4,
  "nbformat_minor": 0,
  "metadata": {
    "colab": {
      "name": "TAD_complexos.ipynb",
      "provenance": [],
      "collapsed_sections": [],
      "authorship_tag": "ABX9TyNRQrnz1QRJ93haT5sWe0+s",
      "include_colab_link": true
    },
    "kernelspec": {
      "name": "python3",
      "display_name": "Python 3"
    },
    "language_info": {
      "name": "python"
    }
  },
  "cells": [
    {
      "cell_type": "markdown",
      "metadata": {
        "id": "view-in-github",
        "colab_type": "text"
      },
      "source": [
        "<a href=\"https://colab.research.google.com/github/gugasant/estudos/blob/main/TAD_complexos.ipynb\" target=\"_parent\"><img src=\"https://colab.research.google.com/assets/colab-badge.svg\" alt=\"Open In Colab\"/></a>"
      ]
    },
    {
      "cell_type": "code",
      "execution_count": null,
      "metadata": {
        "id": "HDk-85Kl3E-s"
      },
      "outputs": [],
      "source": [
        "class numeroscomplexos():\n",
        "  def __init__(self, primeiro_complex, segundo_complex, terceiro_complex):\n",
        "    self.primeiro_complex = primeiro_complex\n",
        "    self.segundo_complex = segundo_complex\n",
        "    self.terceiro_complex = terceiro_complex\n",
        "\n",
        "a = int(input(\"Digite a parte real do primeiro número: \"))\n",
        "b = int(input(\"Digite a parte imaginária do primeiro número: \"))\n",
        "primeiro_complex = complex(a, b)\n",
        "c = int(input(\"Digite a parte real do segundo número: \"))\n",
        "d = int(input(\"Digite a parte imaginária do segundo número: \"))\n",
        "segundo_complex = complex(c, d)\n",
        "e = int(input(\"Digite a parte real do terceiro número: \"))\n",
        "f = int(input(\"Digite a parte imaginária do terceiro número: \"))\n",
        "terceiro_complex = complex(e, f)\n",
        "\n",
        "print(\"O primeiro número complexo, com suas partes real e imaginária respectivamente é:\", primeiro_complex)\n",
        "print(\"O segundo número complexo, com suas partes real e imaginária respectivamente é:\", segundo_complex)\n",
        "print(\"O terceiro número complexo, com suas partes real e imaginária respectivamente é:\", terceiro_complex)\n",
        "\n",
        "print(\"O resultado da soma dos 3 números complexos é:\", a + c + e, \"+\", b + d + f, \"j\")\n",
        "print(\"O resultado da diferença dos 3 números complexos é:\", a - c - e, \"+\", b - d - f, \"j\")\n",
        "print(\"O resultado da multiplicação dos 3 números complexos é:\", a * c * e, \"+\", b * d * f, \"j\")\n",
        "print(\"O resultado da divisão dos 3 números complexos é:\", a / c / e, \"+\", b / d / f, \"j\")\n",
        "\n",
        "\n",
        "\n",
        "\n",
        "\n",
        "\n",
        "\n",
        "\n",
        "\n"
      ]
    }
  ]
}
