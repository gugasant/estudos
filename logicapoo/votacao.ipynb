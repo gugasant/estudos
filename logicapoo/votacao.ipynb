{
  "nbformat": 4,
  "nbformat_minor": 0,
  "metadata": {
    "colab": {
      "name": "votacao.ipynb",
      "provenance": [],
      "authorship_tag": "ABX9TyNTlEAi+L+ygTj+17aP6nC+",
      "include_colab_link": true
    },
    "kernelspec": {
      "name": "python3",
      "display_name": "Python 3"
    },
    "language_info": {
      "name": "python"
    }
  },
  "cells": [
    {
      "cell_type": "markdown",
      "metadata": {
        "id": "view-in-github",
        "colab_type": "text"
      },
      "source": [
        "<a href=\"https://colab.research.google.com/github/gugasant/estudos/blob/main/votacao.ipynb\" target=\"_parent\"><img src=\"https://colab.research.google.com/assets/colab-badge.svg\" alt=\"Open In Colab\"/></a>"
      ]
    },
    {
      "cell_type": "code",
      "source": [
        "import enum\n",
        "class erros(enum.Enum):\n",
        "    TypeError = 1\n",
        "    ValueError = 2\n",
        "\n",
        "candidato_X = 0\n",
        "candidato_Y = 0\n",
        "candidato_Z = 0\n",
        "brancosnulos = 0\n",
        "\n",
        "while True:\n",
        "    try:\n",
        "        resp = int(input(\"Digite o número correspondente para votar:\\n- candidato X => 889\\n- candidato Y => 847\\n- candidato Z => 515\\n- branco => 0:\\n\"))\n",
        "    except (TypeError, ValueError):\n",
        "        print(\"\\nValor inválido, favor votar novamente\\n\")\n",
        "        continue\n",
        "\n",
        "    if resp == 889:\n",
        "      candidato_X += 1\n",
        "            \n",
        "    if resp == 847:\n",
        "      candidato_Y += 1\n",
        "            \n",
        "    if resp == 515:\n",
        "      candidato_Z += 1\n",
        "            \n",
        "    if (resp >= 0 or resp <= 0) and (resp != 515) and (resp != 847) and (resp != 889):\n",
        "      brancosnulos += 1\n",
        "            \n",
        "    while True:\n",
        "        sair = input(\"Finalizar votação? Digite sim para sair ou digite nao para votar novamente: \")\n",
        "        if sair == \"sim\":\n",
        "            if (candidato_X > candidato_Y) and (candidato_X > candidato_Z):\n",
        "                print(\"\\nO vencedor foi o Candidato X\\n\")\n",
        "            elif (candidato_Y > candidato_X) and (candidato_Y > candidato_Z):\n",
        "                print(\"\\nO vencedor foi o Candidato Y\\n\")\n",
        "            elif (candidato_Z > candidato_X) and (candidato_Z > candidato_Y):\n",
        "                print(\"\\nO vencedor foi o Candidato Z\\n\")\n",
        "            else:\n",
        "                print(\"\\nNão houve vencedor\\n\")\n",
        "\n",
        "            print(f\"Votos candidato X: \", candidato_X)\n",
        "            print(f\"Votos candidato Y: \", candidato_Y)\n",
        "            print(f\"Votos candidato Z: \", candidato_Z)\n",
        "            print(f\"Votos em branco e nulos: \", brancosnulos)\n",
        "            break\n",
        "\n",
        "        elif sair == \"nao\":\n",
        "            break\n",
        "\n",
        "        else:\n",
        "            print(\"Valor inválido\\n\")\n",
        "            continue\n",
        "\n",
        "    if sair == \"sim\":\n",
        "        break"
      ],
      "metadata": {
        "id": "USvdlIqM8Tld"
      },
      "execution_count": null,
      "outputs": []
    }
  ]
}
