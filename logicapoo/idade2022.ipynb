{
  "nbformat": 4,
  "nbformat_minor": 0,
  "metadata": {
    "colab": {
      "name": "idade2022.ipynb",
      "provenance": [],
      "authorship_tag": "ABX9TyM1WOS3+ny/Em1/eRficau2",
      "include_colab_link": true
    },
    "kernelspec": {
      "name": "python3",
      "display_name": "Python 3"
    },
    "language_info": {
      "name": "python"
    }
  },
  "cells": [
    {
      "cell_type": "markdown",
      "metadata": {
        "id": "view-in-github",
        "colab_type": "text"
      },
      "source": [
        "<a href=\"https://colab.research.google.com/github/gugasant/estudos/blob/main/idade2022.ipynb\" target=\"_parent\"><img src=\"https://colab.research.google.com/assets/colab-badge.svg\" alt=\"Open In Colab\"/></a>"
      ]
    },
    {
      "cell_type": "code",
      "source": [
        "nome = input(\"Digite nome completo: \")\n",
        "while True:\n",
        "    try:\n",
        "        nasci = int(input(\"Digite ano de nascimento: \"))\n",
        "        if nasci >= 1922 and nasci <= 2021:\n",
        "            idade_atual = 2022 - nasci\n",
        "        else:\n",
        "          raise Exception()        \n",
        "        break\n",
        "    except:\n",
        "        print(\"Ano de nascimento inválido\")\n",
        "        continue\n",
        "\n",
        "print((nome), \"completou, ou completará, no ano atual: \", (idade_atual), \"anos.\")"
      ],
      "metadata": {
        "id": "BkPEZI_rZ4VZ"
      },
      "execution_count": null,
      "outputs": []
    }
  ]
}
