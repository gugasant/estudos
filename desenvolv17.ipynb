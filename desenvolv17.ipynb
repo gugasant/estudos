{
  "nbformat": 4,
  "nbformat_minor": 0,
  "metadata": {
    "colab": {
      "name": "desenvolv17.ipynb",
      "provenance": [],
      "authorship_tag": "ABX9TyMoc3V/kReTKurBskYNt4Jy",
      "include_colab_link": true
    },
    "kernelspec": {
      "name": "python3",
      "display_name": "Python 3"
    },
    "language_info": {
      "name": "python"
    }
  },
  "cells": [
    {
      "cell_type": "markdown",
      "metadata": {
        "id": "view-in-github",
        "colab_type": "text"
      },
      "source": [
        "<a href=\"https://colab.research.google.com/github/gugasant/estudos/blob/main/desenvolv17.ipynb\" target=\"_parent\"><img src=\"https://colab.research.google.com/assets/colab-badge.svg\" alt=\"Open In Colab\"/></a>"
      ]
    },
    {
      "cell_type": "code",
      "source": [
        "def calculadora(n1, n2, ope):\n",
        "  result = 0\n",
        "  if ope == 1:\n",
        "    result = n1 + n2\n",
        "  elif ope == 2:\n",
        "    result = n1 - n2\n",
        "  elif ope == 3:\n",
        "    result = n1 * n2\n",
        "  elif ope == 4:\n",
        "    result = n1 / n2\n",
        "  return result\n",
        "  \n",
        "ope = -1\n",
        "\n",
        "while ope != 0:\n",
        "  print(\"Operações:1=Soma 2=Subtração 3=Multiplicação 4=Divisão 0=Sair\")\n",
        "  ope = int(input(\"Selecione a operação: \"))\n",
        "  if ope == 0:\n",
        "    print(\"Programa finalizado\")\n",
        "    break\n",
        "  elif ope > 4:\n",
        "    print(\"Essa opção não existe\")\n",
        "    continue\n",
        "  n1 = int(input(\"Digite o primeiro número: \"))\n",
        "  n2 = int(input(\"Digite o segundo número: \"))\n",
        "  resultado = calculadora(n1, n2, ope)\n",
        "  print(\"Resultado: \", resultado)\n",
        "\n",
        "\n",
        "  "
      ],
      "metadata": {
        "id": "fd59RLGjkOTb"
      },
      "execution_count": null,
      "outputs": []
    }
  ]
}