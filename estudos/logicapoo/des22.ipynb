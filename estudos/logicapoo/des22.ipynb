{
  "nbformat": 4,
  "nbformat_minor": 0,
  "metadata": {
    "colab": {
      "name": "des22.ipynb",
      "provenance": [],
      "authorship_tag": "ABX9TyMOTEmTH1nIqXn2SkmGvtF9",
      "include_colab_link": true
    },
    "kernelspec": {
      "name": "python3",
      "display_name": "Python 3"
    },
    "language_info": {
      "name": "python"
    }
  },
  "cells": [
    {
      "cell_type": "markdown",
      "metadata": {
        "id": "view-in-github",
        "colab_type": "text"
      },
      "source": [
        "<a href=\"https://colab.research.google.com/github/gugasant/estudos/blob/main/estudos/logicapoo/des22.ipynb\" target=\"_parent\"><img src=\"https://colab.research.google.com/assets/colab-badge.svg\" alt=\"Open In Colab\"/></a>"
      ]
    },
    {
      "cell_type": "code",
      "execution_count": null,
      "metadata": {
        "id": "hqFTuAMv9N82"
      },
      "outputs": [],
      "source": [
        "class Clientes:\n",
        "  \n",
        "  total = 0\n",
        "\n",
        "  def __init__(self, nome, telefone):\n",
        "    self.nome = nome\n",
        "    self.telefone = telefone\n",
        "    Clientes.total += 1\n",
        "\n",
        "  def exibirCliente(self):\n",
        "    print(\"Cliente:\", self.nome, \"- Telefone:\", self.telefone)\n",
        "\n",
        "c1 = Clientes(\"Gustavo\", \"123456\")\n",
        "c1.exibirCliente()\n",
        "\n",
        "c2 = Clientes(\"Giovanna\", \"654321\")\n",
        "c2.exibirCliente()\n",
        "\n",
        "c3 = Clientes(\"Patricia\", \"246810\")\n",
        "c3.exibirCliente()\n",
        "\n",
        "print(\"Total de clientes:\", Clientes.total)"
      ]
    }
  ]
}