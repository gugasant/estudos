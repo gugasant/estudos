{
  "nbformat": 4,
  "nbformat_minor": 0,
  "metadata": {
    "colab": {
      "name": "pandas.ipynb",
      "provenance": [],
      "authorship_tag": "ABX9TyP2PhSpXSjl8c0Pt2OdGwud",
      "include_colab_link": true
    },
    "kernelspec": {
      "name": "python3",
      "display_name": "Python 3"
    },
    "language_info": {
      "name": "python"
    }
  },
  "cells": [
    {
      "cell_type": "markdown",
      "metadata": {
        "id": "view-in-github",
        "colab_type": "text"
      },
      "source": [
        "<a href=\"https://colab.research.google.com/github/gugasant/estudos/blob/main/pandas.ipynb\" target=\"_parent\"><img src=\"https://colab.research.google.com/assets/colab-badge.svg\" alt=\"Open In Colab\"/></a>"
      ]
    },
    {
      "cell_type": "code",
      "execution_count": null,
      "metadata": {
        "id": "P0yzqXwrcCL8"
      },
      "outputs": [],
      "source": [
        "import Pandas as pd\n",
        "\n",
        "df = pd.read_csv(\"notas_alunos.csv\")\n",
        "media_alunos = (df[\"nota1\"] + df[\"nota2\"]) / 2\n",
        "df[\"media\"] = media_alunos\n",
        "\n",
        "df.loc[df[\"media\"] >= 7 and df[\"faltas\"] <= 5, \"situacao\"] = \"APROVADO\"\n",
        "df.loc[df[\"media\"] < 7 and df[\"faltas\"] > 5, \"situacao\"] = \"REPROVADO\"\n",
        "\n",
        "df.to_csv(\"alunos_situacao.csv\", index = False)\n",
        "\n",
        "maxfaltas = df[\"faltas\"].max()\n",
        "mediageral = df[\"media\"].median()\n",
        "maiormedia = df[\"media\"].max()\n",
        "\n",
        "print(\"O maior número de faltas é \", maxfaltas)\n",
        "print(\"A média geral das notas dos alunos foi \", mediageral)\n",
        "print(\"A maior média foi \", maiormedia)"
      ]
    }
  ]
}